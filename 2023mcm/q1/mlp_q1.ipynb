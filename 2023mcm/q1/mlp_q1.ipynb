{
 "cells": [
  {
   "cell_type": "code",
   "execution_count": 1,
   "id": "fb70c40b-5f13-4e73-a238-614c33fb8605",
   "metadata": {},
   "outputs": [],
   "source": [
    "import pandas as pd\n",
    "import numpy as np\n",
    "import torch\n",
    "from torch import nn\n",
    "import matplotlib.pyplot as plt\n",
    "# 读取Excel文件到DataFrame中\n",
    "df = pd.read_csv('/root/2023mcm/Problem_C_Data_Wordle(1).csv', header=0)\n",
    "\n",
    "# 反向索引DataFrame\n",
    "reversed_df = df.iloc[::-1]\n",
    "\n",
    "# 打印反向排序后的DataFrame\n",
    "df=reversed_df"
   ]
  },
  {
   "cell_type": "code",
   "execution_count": 2,
   "id": "7b0faaba-df3e-4d5e-adc0-cbc1f3a90e9c",
   "metadata": {},
   "outputs": [],
   "source": [
    "# 将日期列转换为时间戳格式\n",
    "df[\"Date\"] = pd.to_datetime(df[\"Date\"])\n",
    "# 删除缺失值和重复值\n",
    "df = df.dropna().drop_duplicates()"
   ]
  },
  {
   "cell_type": "code",
   "execution_count": 3,
   "id": "f1290a1b-e107-437b-ac91-be29eec5f189",
   "metadata": {},
   "outputs": [
    {
     "name": "stdout",
     "output_type": "stream",
     "text": [
      "Number of outliers: 35\n"
     ]
    },
    {
     "data": {
      "text/plain": [
       "<matplotlib.legend.Legend at 0x7fdb95f016d0>"
      ]
     },
     "execution_count": 3,
     "metadata": {},
     "output_type": "execute_result"
    },
    {
     "data": {
      "image/png": "[encoded data removed]",
      "text/plain": [
       "<Figure size 432x288 with 1 Axes>"
      ]
     },
     "metadata": {
      "needs_background": "light"
     },
     "output_type": "display_data"
    }
   ],
   "source": [
    "import numpy as np\n",
    "from sklearn.preprocessing import MinMaxScaler\n",
    "\n",
    "# 提取目标值和特征\n",
    "target = df.iloc[:, 3]\n",
    "# 绘制箱线图\n",
    "fig, ax = plt.subplots()\n",
    "ax.boxplot(target)\n",
    "ax.set_title('Boxplot of Number of reported results')\n",
    "\n",
    "# 计算极端值线\n",
    "q1 = target.quantile(0.25)\n",
    "q3 = target.quantile(0.75)\n",
    "iqr = q3 - q1\n",
    "lower_bound = q1 - 1.5 * iqr\n",
    "upper_bound = q3 + 1.5 * iqr\n",
    "\n",
    "# 标记异常值\n",
    "outliers = df.loc[(target < lower_bound) | (target > upper_bound)]\n",
    "print(f\"Number of outliers: {len(outliers)}\")\n",
    "ax.plot([], [], 'o', label='Outliers', color='red')\n",
    "ax.legend()\n"
   ]
  },
  {
   "cell_type": "code",
   "execution_count": 4,
   "id": "6b8af49c-bb04-4a84-8984-cddfd25156aa",
   "metadata": {},
   "outputs": [
    {
     "data": {
      "text/plain": [
       "(23739, 26051)"
      ]
     },
     "execution_count": 4,
     "metadata": {},
     "output_type": "execute_result"
    }
   ],
   "source": [
    "target[31],target[32]"
   ]
  },
  {
   "cell_type": "code",
   "execution_count": 5,
   "id": "64a0a255-ec6d-425b-a4ad-b69be125d760",
   "metadata": {},
   "outputs": [
    {
     "name": "stderr",
     "output_type": "stream",
     "text": [
      "/root/miniconda3/lib/python3.8/site-packages/torch/nn/modules/loss.py:529: UserWarning: Using a target size (torch.Size([1, 1])) that is different to the input size (torch.Size([1, 14, 1])). This will likely lead to incorrect results due to broadcasting. Please ensure they have the same size.\n",
      "  return F.mse_loss(input, target, reduction=self.reduction)\n"
     ]
    },
    {
     "ename": "ValueError",
     "evalue": "only one element tensors can be converted to Python scalars",
     "output_type": "error",
     "traceback": [
      "\u001b[0;31m---------------------------------------------------------------------------\u001b[0m",
      "\u001b[0;31mValueError\u001b[0m                                Traceback (most recent call last)",
      "Input \u001b[0;32mIn [5]\u001b[0m, in \u001b[0;36m<cell line: 51>\u001b[0;34m()\u001b[0m\n\u001b[1;32m     67\u001b[0m     targets \u001b[38;5;241m=\u001b[39m valid_data[i]\u001b[38;5;241m.\u001b[39mview(\u001b[38;5;241m1\u001b[39m, \u001b[38;5;241m1\u001b[39m)\n\u001b[1;32m     68\u001b[0m     outputs \u001b[38;5;241m=\u001b[39m model(inputs)\n\u001b[0;32m---> 69\u001b[0m     valid_preds\u001b[38;5;241m.\u001b[39mappend(\u001b[43moutputs\u001b[49m\u001b[38;5;241;43m.\u001b[39;49m\u001b[43mitem\u001b[49m\u001b[43m(\u001b[49m\u001b[43m)\u001b[49m)\n\u001b[1;32m     70\u001b[0m valid_preds \u001b[38;5;241m=\u001b[39m np\u001b[38;5;241m.\u001b[39marray(valid_preds)\n\u001b[1;32m     71\u001b[0m valid_loss \u001b[38;5;241m=\u001b[39m criterion(torch\u001b[38;5;241m.\u001b[39mfrom_numpy(valid_preds)\u001b[38;5;241m.\u001b[39mfloat()\u001b[38;5;241m.\u001b[39mto(device), valid_data[\u001b[38;5;241m-\u001b[39m\u001b[38;5;28mlen\u001b[39m(valid_preds):])\n",
      "\u001b[0;31mValueError\u001b[0m: only one element tensors can be converted to Python scalars"
     ]
    }
   ],
   "source": [
    "target=target.values.reshape(-1,1).copy()\n",
    "# 数据归一化\n",
    "scaler = MinMaxScaler()\n",
    "target_norm = scaler.fit_transform(target)\n",
    "\n",
    "\n",
    "# 将数据转换为PyTorch张量\n",
    "device = torch.device(\"cuda\" if torch.cuda.is_available() else \"cpu\")\n",
    "target_tensor = torch.from_numpy(target_norm).float().to(device)\n",
    "\n",
    "# 构建LSTM模型\n",
    "class MLP(nn.Module):\n",
    "    def __init__(self, input_size, hidden_size, output_size, dropout_rate=0.2):\n",
    "        super(MLP, self).__init__()\n",
    "        self.hidden_size = hidden_size\n",
    "        self.fc1 = nn.Linear(input_size, hidden_size)\n",
    "        self.relu = nn.ReLU()\n",
    "        self.dropout = nn.Dropout(dropout_rate)\n",
    "        self.fc2 = nn.Linear(hidden_size, output_size)\n",
    "\n",
    "    def forward(self, x):\n",
    "        out = self.fc1(x)\n",
    "        out = self.relu(out)\n",
    "        out = self.dropout(out)\n",
    "        out = self.fc2(out)\n",
    "        return out\n",
    "\n",
    "\n",
    "# 定义模型超参数\n",
    "input_size = 1\n",
    "hidden_size = 72\n",
    "output_size = 1\n",
    "seq_length = 14\n",
    "\n",
    "# 初始化模型\n",
    "model = MLP(input_size, hidden_size, output_size).to(device)\n",
    "\n",
    "# 定义优化器和损失函数\n",
    "criterion = nn.MSELoss()\n",
    "optimizer = torch.optim.Adam(model.parameters(), lr=0.001)\n",
    "\n",
    "# 划分训练集、验证集和测试集\n",
    "train_data = target_tensor[:-60]\n",
    "valid_data = target_tensor[-60:-30]\n",
    "test_data = target_tensor[-30:]\n",
    "\n",
    "# 训练模型\n",
    "num_epochs = 2000\n",
    "train_losses = []\n",
    "valid_losses = []\n",
    "for epoch in range(num_epochs):\n",
    "    for i in range(seq_length, train_data.shape[0]):\n",
    "        optimizer.zero_grad()\n",
    "        inputs = train_data[i - seq_length:i].view(1, seq_length, 1)\n",
    "        targets = train_data[i].view(1, 1)\n",
    "        outputs = model(inputs)\n",
    "        loss = criterion(outputs, targets)\n",
    "        loss.backward()\n",
    "        optimizer.step()\n",
    "    train_losses.append(loss.item())\n",
    "    \n",
    "    # 验证模型\n",
    "    with torch.no_grad():\n",
    "        valid_preds = []\n",
    "        for i in range(seq_length, valid_data.shape[0]):\n",
    "            inputs = valid_data[i - seq_length:i].view(1, seq_length, 1)\n",
    "            targets = valid_data[i].view(1, 1)\n",
    "            outputs = model(inputs)\n",
    "            valid_preds.append(outputs.item())\n",
    "        valid_preds = np.array(valid_preds)\n",
    "        valid_loss = criterion(torch.from_numpy(valid_preds).float().to(device), valid_data[-len(valid_preds):])\n",
    "        valid_losses.append(valid_loss.item())\n",
    "\n",
    "    if epoch % 100 == 0:\n",
    "        print(f\"Epoch {epoch}, Train Loss {loss.item()}, Valid Loss {valid_loss.item()}\")\n",
    "\n",
    "# 绘制训练和验证集上的损失曲线\n",
    "plt.plot(train_losses, label=\"Train\")\n",
    "plt.plot(valid_losses, label=\"Valid\")\n",
    "plt.title(\"Training and Validation Loss\")\n",
    "plt.xlabel(\"Epoch\")\n",
    "plt.ylabel(\"Loss\")\n",
    "plt.legend()\n",
    "plt.show()"
   ]
  },
  {
   "cell_type": "code",
   "execution_count": null,
   "id": "d11817cb-34fe-4645-9bae-78ebe2bf676a",
   "metadata": {},
   "outputs": [],
   "source": [
    "test_data.size()\n",
    "print(model)"
   ]
  },
  {
   "cell_type": "code",
   "execution_count": null,
   "id": "aa50a660-70bb-4d61-8705-fd341264423d",
   "metadata": {},
   "outputs": [],
   "source": [
    "# 测试模型\n",
    "model.eval()\n",
    "predictions = []\n",
    "for i in range(seq_length, test_data.shape[0]):\n",
    "    inputs = test_data[i - seq_length:i].view(1, seq_length, 1)\n",
    "    with torch.no_grad():\n",
    "        outputs = model(inputs)\n",
    "    predictions.append(outputs.item())\n",
    "predictions = np.array(predictions)\n",
    "\n",
    "# 反归一化\n",
    "predictions_norm = scaler.inverse_transform(predictions.reshape(-1,1))\n",
    "test_data_norm = scaler.inverse_transform(test_data[-len(predictions):].cpu().detach().numpy())\n",
    "\n",
    "# 绘制模型在测试集上的表现\n",
    "fig, ax = plt.subplots(figsize=(10, 5))\n",
    "ax.plot(df[\"Date\"][-len(test_data_norm):], test_data_norm.flatten(), label=\"True\", color='red')\n",
    "ax.plot(df[\"Date\"][-len(predictions_norm):], predictions_norm, label=\"Predicted\", color='blue')\n",
    "ax.set_xlabel(\"Date\")\n",
    "ax.set_ylabel(\"Number of Reported Results\")\n",
    "ax.legend()\n",
    "\n",
    "# 绘制测试集上的损失曲线\n",
    "test_loss = criterion(torch.from_numpy(predictions).float().to(device), test_data[-len(predictions):])\n",
    "print(f\"Test Loss: {test_loss.item():.4f}\")\n",
    "plt.figure(figsize=(10, 5))\n",
    "plt.plot(test_data_norm.flatten(), label=\"True\", color='red')\n",
    "plt.plot(predictions_norm, label=\"Predicted\", color='blue')\n",
    "plt.legend()\n",
    "plt.title(f\"Test Loss: {test_loss.item():.4f}\")\n",
    "plt.xlabel(\"Time (days)\")\n",
    "plt.ylabel(\"Number of Reported Results\")\n",
    "plt.show()"
   ]
  },
  {
   "cell_type": "code",
   "execution_count": null,
   "id": "944fb3f5-2ac8-4625-b008-049523fee295",
   "metadata": {},
   "outputs": [],
   "source": [
    "np.shape(predictions_norm),np.shape(test_data_norm)"
   ]
  },
  {
   "cell_type": "code",
   "execution_count": null,
   "id": "3738b13e-f97e-4b02-8a41-dea14ef0aee0",
   "metadata": {},
   "outputs": [],
   "source": [
    "from sklearn.metrics import mean_squared_error, mean_absolute_error\n",
    "\n",
    "mse = mean_squared_error(test_data_norm, predictions_norm)\n",
    "mae = mean_absolute_error(test_data_norm, predictions_norm)\n",
    "\n",
    "print(f\"MSE: {mse:.2f}\")\n",
    "print(f\"MAE: {mae:.2f}\")\n"
   ]
  },
  {
   "cell_type": "code",
   "execution_count": null,
   "id": "a298fd24-bb32-41a7-8e07-61facda17150",
   "metadata": {},
   "outputs": [],
   "source": [
    "# 构造2022-3-1的输入序列\n",
    "inputs = torch.from_numpy(test_data[-seq_length:].cpu().detach().numpy()).float().to(device)\n",
    "predictions = []\n",
    "\n",
    "# 预测未来14天的结果\n",
    "for i in range(14):\n",
    "    with torch.no_grad():\n",
    "        outputs = model(inputs.view(1, seq_length, 1))\n",
    "        predictions.append(outputs.item())\n",
    "        inputs = torch.cat((inputs[1:], outputs), axis=0)\n",
    "\n",
    "# 反归一化\n",
    "predictions_norm = scaler.inverse_transform(np.array(predictions).reshape(-1,1))\n",
    "\n",
    "# 打印预测结果\n",
    "print(f\"2022-3-1的预测结果区间为：[{predictions_norm.min():.0f}, {predictions_norm.max():.0f}]\")\n"
   ]
  },
  {
   "cell_type": "code",
   "execution_count": null,
   "id": "f202aad5-de5e-475d-9639-a5b2279de37a",
   "metadata": {},
   "outputs": [],
   "source": [
    "test_data[-seq_length:]"
   ]
  },
  {
   "cell_type": "code",
   "execution_count": null,
   "id": "60ce9ce3-6176-464f-8f07-f0a744440bea",
   "metadata": {},
   "outputs": [],
   "source": []
  },
  {
   "cell_type": "code",
   "execution_count": null,
   "id": "80d1f6b7-e341-481f-b558-8b16c308c41b",
   "metadata": {},
   "outputs": [],
   "source": []
  },
  {
   "cell_type": "code",
   "execution_count": null,
   "id": "a511a1f7-310a-4e0a-a31e-f7a245ad2260",
   "metadata": {},
   "outputs": [],
   "source": []
  }
 ],
 "metadata": {
  "kernelspec": {
   "display_name": "Python 3 (ipykernel)",
   "language": "python",
   "name": "python3"
  },
  "language_info": {
   "codemirror_mode": {
    "name": "ipython",
    "version": 3
   },
   "file_extension": ".py",
   "mimetype": "text/x-python",
   "name": "python",
   "nbconvert_exporter": "python",
   "pygments_lexer": "ipython3",
   "version": "3.8.10"
  }
 },
 "nbformat": 4,
 "nbformat_minor": 5
}
